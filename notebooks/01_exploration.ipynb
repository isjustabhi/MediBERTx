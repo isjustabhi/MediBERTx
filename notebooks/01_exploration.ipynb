{
 "cells": [
  {
   "cell_type": "markdown",
   "id": "a846a1d9",
   "metadata": {},
   "source": [
    "# 🧠 MIMIC-III Notes Exploration"
   ]
  },
  {
   "cell_type": "code",
   "execution_count": null,
   "id": "9bde49ef",
   "metadata": {},
   "outputs": [],
   "source": [
    "from datasets import load_dataset\n",
    "\n",
    "# Load the MIMIC-III notes dataset\n",
    "dataset = load_dataset('mit-mimic-iii-notes')\n",
    "dataset"
   ]
  },
  {
   "cell_type": "code",
   "execution_count": null,
   "id": "13daf01e",
   "metadata": {},
   "outputs": [],
   "source": [
    "# Display some samples\n",
    "dataset['train'][0]"
   ]
  }
 ],
 "metadata": {},
 "nbformat": 4,
 "nbformat_minor": 5
}
