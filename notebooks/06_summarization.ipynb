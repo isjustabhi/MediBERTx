{
 "cells": [
  {
   "cell_type": "markdown",
   "id": "566a65cc",
   "metadata": {},
   "source": [
    "# 📄 Clinical Note Summarization with T5"
   ]
  },
  {
   "cell_type": "code",
   "execution_count": null,
   "id": "e317cdee",
   "metadata": {},
   "outputs": [],
   "source": [
    "from transformers import pipeline\n",
    "\n",
    "# Load summarization pipeline\n",
    "summarizer = pipeline('summarization', model='t5-small')\n",
    "\n",
    "sample_text = '''The patient was admitted with chest pain and shortness of breath. Tests confirmed a mild heart attack. Medication was administered and patient was stabilized.'''\n",
    "\n",
    "# Summarize\n",
    "summary = summarizer(sample_text, max_length=60, min_length=20, do_sample=False)\n",
    "summary[0]['summary_text']"
   ]
  }
 ],
 "metadata": {},
 "nbformat": 4,
 "nbformat_minor": 5
}
